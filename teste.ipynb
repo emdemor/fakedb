{
 "cells": [
  {
   "cell_type": "code",
   "execution_count": 3,
   "id": "2ed8053f-def5-4e01-8595-d437b2e30c91",
   "metadata": {},
   "outputs": [],
   "source": [
    "from fakedb import LocalStorageBackend, FakePostgresDB\n",
    "\n",
    "backend = LocalStorageBackend('data/analytics_sandbox')\n",
    "db = FakePostgresDB(backend, 'meu_db')\n",
    "await db.create_table('usuarios', {'id': 'int', 'nome': 'str'})\n",
    "await db.insert('usuarios', [{'id': 1, 'nome': 'Alice'}, {'id': 2, 'nome': 'Bruno'}])\n",
    "rows = await db.query('usuarios')\n"
   ]
  },
  {
   "cell_type": "code",
   "execution_count": 5,
   "id": "535f5c80-3b78-45bb-9deb-be6e04216085",
   "metadata": {},
   "outputs": [],
   "source": [
    "\n",
    "await db.insert('usuarios', [{'_id': 1, 'nome': 'Alice'}, {'id': 2, 'nome': 'Bruno'}])"
   ]
  },
  {
   "cell_type": "code",
   "execution_count": 10,
   "id": "d193aa5b-b2d3-4647-af49-9545d2e4b6dc",
   "metadata": {},
   "outputs": [
    {
     "data": {
      "text/plain": [
       "[{'_id': 1, 'nome': 'Alice'}, {'id': 1, 'nome': 'Alice'}]"
      ]
     },
     "execution_count": 10,
     "metadata": {},
     "output_type": "execute_result"
    }
   ],
   "source": [
    "rows = await db.query('usuarios', filters=lambda x: x[\"nome\"] == \"Alice\")\n",
    "rows"
   ]
  },
  {
   "cell_type": "code",
   "execution_count": null,
   "id": "7203c777-57a9-4ff7-ace6-573532feeced",
   "metadata": {},
   "outputs": [],
   "source": []
  }
 ],
 "metadata": {
  "kernelspec": {
   "display_name": "Python 3 (ipykernel)",
   "language": "python",
   "name": "python3"
  },
  "language_info": {
   "codemirror_mode": {
    "name": "ipython",
    "version": 3
   },
   "file_extension": ".py",
   "mimetype": "text/x-python",
   "name": "python",
   "nbconvert_exporter": "python",
   "pygments_lexer": "ipython3",
   "version": "3.11.9"
  }
 },
 "nbformat": 4,
 "nbformat_minor": 5
}
